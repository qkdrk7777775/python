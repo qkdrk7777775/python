{
 "cells": [
  {
   "cell_type": "code",
   "execution_count": 2,
   "metadata": {
    "execution": {
     "iopub.execute_input": "2020-11-26T01:07:14.400636Z",
     "iopub.status.busy": "2020-11-26T01:07:14.400260Z",
     "iopub.status.idle": "2020-11-26T01:07:14.405208Z",
     "shell.execute_reply": "2020-11-26T01:07:14.404121Z",
     "shell.execute_reply.started": "2020-11-26T01:07:14.400598Z"
    }
   },
   "outputs": [],
   "source": [
    "import tensorflow as tf"
   ]
  },
  {
   "cell_type": "code",
   "execution_count": 2,
   "metadata": {
    "execution": {
     "iopub.execute_input": "2020-11-25T10:03:51.943058Z",
     "iopub.status.busy": "2020-11-25T10:03:51.942782Z",
     "iopub.status.idle": "2020-11-25T10:03:51.950613Z",
     "shell.execute_reply": "2020-11-25T10:03:51.949734Z",
     "shell.execute_reply.started": "2020-11-25T10:03:51.943033Z"
    }
   },
   "outputs": [],
   "source": [
    "data=[[2,81],[4,93],[6,91],[8,97]]\n",
    "x_data=[x_row[0] for x_row in data]\n",
    "y_data=[x_row[1] for x_row in data]\n",
    "\n",
    "learning_rate=.1"
   ]
  },
  {
   "cell_type": "code",
   "execution_count": 3,
   "metadata": {
    "execution": {
     "iopub.execute_input": "2020-11-25T10:03:52.534416Z",
     "iopub.status.busy": "2020-11-25T10:03:52.534188Z",
     "iopub.status.idle": "2020-11-25T10:03:54.280657Z",
     "shell.execute_reply": "2020-11-25T10:03:54.280014Z",
     "shell.execute_reply.started": "2020-11-25T10:03:52.534392Z"
    }
   },
   "outputs": [],
   "source": [
    "a=tf.Variable(\n",
    "    tf.random.uniform([1],0,10,dtype=tf.float64,seed=0))"
   ]
  },
  {
   "cell_type": "code",
   "execution_count": 4,
   "metadata": {
    "execution": {
     "iopub.execute_input": "2020-11-25T10:04:00.249864Z",
     "iopub.status.busy": "2020-11-25T10:04:00.249471Z",
     "iopub.status.idle": "2020-11-25T10:04:00.266500Z",
     "shell.execute_reply": "2020-11-25T10:04:00.266014Z",
     "shell.execute_reply.started": "2020-11-25T10:04:00.249820Z"
    }
   },
   "outputs": [
    {
     "data": {
      "text/plain": [
       "<tf.Tensor: shape=(1,), dtype=float32, numpy=array([7.3661413], dtype=float32)>"
      ]
     },
     "execution_count": 4,
     "metadata": {},
     "output_type": "execute_result"
    }
   ],
   "source": [
    "tf.random.uniform([1],0,10)"
   ]
  },
  {
   "cell_type": "code",
   "execution_count": 5,
   "metadata": {
    "execution": {
     "iopub.execute_input": "2020-11-25T10:04:00.996655Z",
     "iopub.status.busy": "2020-11-25T10:04:00.996266Z",
     "iopub.status.idle": "2020-11-25T10:04:01.004819Z",
     "shell.execute_reply": "2020-11-25T10:04:01.003709Z",
     "shell.execute_reply.started": "2020-11-25T10:04:00.996611Z"
    }
   },
   "outputs": [
    {
     "data": {
      "text/plain": [
       "<tf.Tensor: shape=(2,), dtype=float32, numpy=array([0.13098013, 0.03634179], dtype=float32)>"
      ]
     },
     "execution_count": 5,
     "metadata": {},
     "output_type": "execute_result"
    }
   ],
   "source": [
    "tf.random.uniform(shape=[2])"
   ]
  },
  {
   "cell_type": "code",
   "execution_count": 6,
   "metadata": {
    "execution": {
     "iopub.execute_input": "2020-11-25T10:04:01.607814Z",
     "iopub.status.busy": "2020-11-25T10:04:01.607440Z",
     "iopub.status.idle": "2020-11-25T10:04:01.883326Z",
     "shell.execute_reply": "2020-11-25T10:04:01.882785Z",
     "shell.execute_reply.started": "2020-11-25T10:04:01.607771Z"
    }
   },
   "outputs": [
    {
     "data": {
      "application/vnd.jupyter.widget-view+json": {
       "model_id": "d92b89a64eb34b0fa4aa31438053ef00",
       "version_major": 2,
       "version_minor": 0
      },
      "text/plain": [
       "Canvas(toolbar=Toolbar(toolitems=[('Home', 'Reset original view', 'home', 'home'), ('Back', 'Back to previous …"
      ]
     },
     "metadata": {},
     "output_type": "display_data"
    }
   ],
   "source": [
    "%matplotlib widget\n",
    "\n",
    "import matplotlib.pyplot as plt\n",
    "import numpy as np\n",
    "\n",
    "# Testing matplotlib interactions with a simple plot\n",
    "fig = plt.figure()\n",
    "plt.plot(np.sin(np.linspace(0, 20, 100)));"
   ]
  },
  {
   "cell_type": "code",
   "execution_count": 4,
   "metadata": {
    "execution": {
     "iopub.execute_input": "2020-11-20T15:30:10.901398Z",
     "iopub.status.busy": "2020-11-20T15:30:10.901028Z",
     "iopub.status.idle": "2020-11-20T15:30:11.304347Z",
     "shell.execute_reply": "2020-11-20T15:30:11.303758Z",
     "shell.execute_reply.started": "2020-11-20T15:30:10.901355Z"
    }
   },
   "outputs": [],
   "source": [
    "import jupyterlab_dash\n",
    "import dash\n",
    "import dash_html_components as html\n",
    "\n",
    "viewer = jupyterlab_dash.AppViewer()\n",
    "\n",
    "app = dash.Dash(__name__)\n",
    "\n",
    "app.layout = html.Div('Hello World')\n",
    "\n",
    "viewer.show(app)"
   ]
  },
  {
   "cell_type": "code",
   "execution_count": 5,
   "metadata": {
    "execution": {
     "iopub.execute_input": "2020-11-20T15:30:11.366754Z",
     "iopub.status.busy": "2020-11-20T15:30:11.366612Z",
     "iopub.status.idle": "2020-11-20T15:30:11.383342Z",
     "shell.execute_reply": "2020-11-20T15:30:11.382730Z",
     "shell.execute_reply.started": "2020-11-20T15:30:11.366737Z"
    }
   },
   "outputs": [],
   "source": [
    "import dash\n",
    "import dash_core_components as dcc\n",
    "import dash_html_components as html\n",
    "import pandas as pd\n",
    "import plotly.graph_objs as go"
   ]
  },
  {
   "cell_type": "code",
   "execution_count": 6,
   "metadata": {
    "execution": {
     "iopub.execute_input": "2020-11-20T15:30:12.108202Z",
     "iopub.status.busy": "2020-11-20T15:30:12.107813Z",
     "iopub.status.idle": "2020-11-20T15:30:13.400296Z",
     "shell.execute_reply": "2020-11-20T15:30:13.399775Z",
     "shell.execute_reply.started": "2020-11-20T15:30:12.108177Z"
    }
   },
   "outputs": [],
   "source": [
    "df = pd.read_csv(\n",
    "    'https://gist.githubusercontent.com/chriddyp/'\n",
    "    'cb5392c35661370d95f300086accea51/raw/'\n",
    "    '8e0768211f6b747c0db42a9ce9a0937dafcbd8b2/'\n",
    "    'indicators.csv')\n",
    "\n",
    "available_indicators = df['Indicator Name'].unique()"
   ]
  },
  {
   "cell_type": "code",
   "execution_count": 7,
   "metadata": {
    "execution": {
     "iopub.execute_input": "2020-11-20T15:30:13.414501Z",
     "iopub.status.busy": "2020-11-20T15:30:13.414350Z",
     "iopub.status.idle": "2020-11-20T15:30:13.417654Z",
     "shell.execute_reply": "2020-11-20T15:30:13.417063Z",
     "shell.execute_reply.started": "2020-11-20T15:30:13.414482Z"
    }
   },
   "outputs": [],
   "source": [
    "from jupyterlab_dash import AppViewer\n",
    "viewer = AppViewer()"
   ]
  },
  {
   "cell_type": "code",
   "execution_count": 8,
   "metadata": {
    "execution": {
     "iopub.execute_input": "2020-11-20T15:30:13.969132Z",
     "iopub.status.busy": "2020-11-20T15:30:13.968922Z",
     "iopub.status.idle": "2020-11-20T15:30:13.990928Z",
     "shell.execute_reply": "2020-11-20T15:30:13.990352Z",
     "shell.execute_reply.started": "2020-11-20T15:30:13.969111Z"
    }
   },
   "outputs": [],
   "source": [
    "\n",
    "# Build App\n",
    "external_stylesheets = ['https://codepen.io/chriddyp/pen/bWLwgP.css']\n",
    "app = dash.Dash(__name__, external_stylesheets=external_stylesheets)\n",
    "\n",
    "app.layout = html.Div([\n",
    "    html.Div([\n",
    "\n",
    "        html.Div([\n",
    "            dcc.Dropdown(\n",
    "                id='xaxis-column',\n",
    "                options=[{'label': i, 'value': i} for i in available_indicators],\n",
    "                value='Fertility rate, total (births per woman)'\n",
    "            ),\n",
    "            dcc.RadioItems(\n",
    "                id='xaxis-type',\n",
    "                options=[{'label': i, 'value': i} for i in ['Linear', 'Log']],\n",
    "                value='Linear',\n",
    "                labelStyle={'display': 'inline-block'}\n",
    "            )\n",
    "        ],\n",
    "        style={'width': '48%', 'display': 'inline-block'}),\n",
    "\n",
    "        html.Div([\n",
    "            dcc.Dropdown(\n",
    "                id='yaxis-column',\n",
    "                options=[{'label': i, 'value': i} for i in available_indicators],\n",
    "                value='Life expectancy at birth, total (years)'\n",
    "            ),\n",
    "            dcc.RadioItems(\n",
    "                id='yaxis-type',\n",
    "                options=[{'label': i, 'value': i} for i in ['Linear', 'Log']],\n",
    "                value='Linear',\n",
    "                labelStyle={'display': 'inline-block'}\n",
    "            )\n",
    "        ],style={'width': '48%', 'float': 'right', 'display': 'inline-block'})\n",
    "    ]),\n",
    "\n",
    "    dcc.Graph(id='indicator-graphic'),\n",
    "\n",
    "    dcc.Slider(\n",
    "        id='year--slider',\n",
    "        min=df['Year'].min(),\n",
    "        max=df['Year'].max(),\n",
    "        value=df['Year'].max(),\n",
    "        marks={str(year): str(year) for year in df['Year'].unique()}\n",
    "    )\n",
    "])\n",
    "\n",
    "# Callbacks\n",
    "@app.callback(\n",
    "    dash.dependencies.Output('indicator-graphic', 'figure'),\n",
    "    [dash.dependencies.Input('xaxis-column', 'value'),\n",
    "     dash.dependencies.Input('yaxis-column', 'value'),\n",
    "     dash.dependencies.Input('xaxis-type', 'value'),\n",
    "     dash.dependencies.Input('yaxis-type', 'value'),\n",
    "     dash.dependencies.Input('year--slider', 'value')])\n",
    "def update_graph(xaxis_column_name, yaxis_column_name,\n",
    "                 xaxis_type, yaxis_type,\n",
    "                 year_value):\n",
    "    dff = df[df['Year'] == year_value]\n",
    "    return {\n",
    "        'data': [go.Scatter(\n",
    "            x=dff[dff['Indicator Name'] == xaxis_column_name]['Value'],\n",
    "            y=dff[dff['Indicator Name'] == yaxis_column_name]['Value'],\n",
    "            text=dff[dff['Indicator Name'] == yaxis_column_name]['Country Name'],\n",
    "            mode='markers',\n",
    "            marker={\n",
    "                'size': 15,\n",
    "                'opacity': 1,\n",
    "                'color': 'blue',\n",
    "                'line': {'width': 2}\n",
    "            }\n",
    "        )],\n",
    "        'layout': go.Layout(\n",
    "            xaxis={\n",
    "                'title': xaxis_column_name,\n",
    "                'type': 'linear' if xaxis_type == 'Linear' else 'log'\n",
    "            },\n",
    "            yaxis={\n",
    "                'title': yaxis_column_name,\n",
    "                'type': 'linear' if yaxis_type == 'Linear' else 'log'\n",
    "            },\n",
    "            margin={'l': 40, 'b': 40, 't': 10, 'r': 0},\n",
    "            hovermode='closest',\n",
    "        )\n",
    "    }\n",
    "\n",
    "viewer.show(app)"
   ]
  },
  {
   "cell_type": "code",
   "execution_count": 14,
   "metadata": {
    "execution": {
     "iopub.execute_input": "2020-11-20T15:31:23.981732Z",
     "iopub.status.busy": "2020-11-20T15:31:23.981224Z",
     "iopub.status.idle": "2020-11-20T15:31:26.249877Z",
     "shell.execute_reply": "2020-11-20T15:31:26.249072Z",
     "shell.execute_reply.started": "2020-11-20T15:31:23.981693Z"
    }
   },
   "outputs": [
    {
     "name": "stdout",
     "output_type": "stream",
     "text": [
      "Requirement already satisfied: itk-io in /root/anaconda3/envs/jupyter/lib/python3.6/site-packages (5.1.1.post1)\n",
      "Requirement already satisfied: itk-core==5.1.1.post1 in /root/anaconda3/envs/jupyter/lib/python3.6/site-packages (from itk-io) (5.1.1.post1)\n"
     ]
    }
   ],
   "source": [
    "\n",
    "import sys\n",
    "!{sys.executable} -m pip install itk-io"
   ]
  },
  {
   "cell_type": "code",
   "execution_count": 15,
   "metadata": {
    "execution": {
     "iopub.execute_input": "2020-11-20T15:31:28.963376Z",
     "iopub.status.busy": "2020-11-20T15:31:28.963016Z",
     "iopub.status.idle": "2020-11-20T15:31:28.967417Z",
     "shell.execute_reply": "2020-11-20T15:31:28.966586Z",
     "shell.execute_reply.started": "2020-11-20T15:31:28.963335Z"
    }
   },
   "outputs": [],
   "source": [
    "import sys"
   ]
  },
  {
   "cell_type": "code",
   "execution_count": 24,
   "metadata": {
    "execution": {
     "iopub.execute_input": "2020-11-20T15:33:58.501164Z",
     "iopub.status.busy": "2020-11-20T15:33:58.500973Z",
     "iopub.status.idle": "2020-11-20T15:33:58.503985Z",
     "shell.execute_reply": "2020-11-20T15:33:58.503475Z",
     "shell.execute_reply.started": "2020-11-20T15:33:58.501143Z"
    }
   },
   "outputs": [],
   "source": [
    "from urllib.request import urlretrieve\n",
    "import os\n",
    "\n",
    "import itk\n",
    "\n",
    "from itkwidgets import view"
   ]
  },
  {
   "cell_type": "code",
   "execution_count": 25,
   "metadata": {
    "execution": {
     "iopub.execute_input": "2020-11-20T15:33:58.951740Z",
     "iopub.status.busy": "2020-11-20T15:33:58.951483Z",
     "iopub.status.idle": "2020-11-20T15:33:58.958206Z",
     "shell.execute_reply": "2020-11-20T15:33:58.957597Z",
     "shell.execute_reply.started": "2020-11-20T15:33:58.951711Z"
    }
   },
   "outputs": [],
   "source": [
    "# Download data\n",
    "file_name = '005_32months_T2_RegT1_Reg2Atlas_ManualBrainMask_Stripped.nrrd'\n",
    "if not os.path.exists(file_name):\n",
    "    url = 'https://data.kitware.com/api/v1/file/564a5b078d777f7522dbfaa6/download'\n",
    "    urlretrieve(url, file_name)"
   ]
  },
  {
   "cell_type": "code",
   "execution_count": 26,
   "metadata": {
    "execution": {
     "iopub.execute_input": "2020-11-20T15:33:59.511065Z",
     "iopub.status.busy": "2020-11-20T15:33:59.510798Z",
     "iopub.status.idle": "2020-11-20T15:33:59.743710Z",
     "shell.execute_reply": "2020-11-20T15:33:59.743222Z",
     "shell.execute_reply.started": "2020-11-20T15:33:59.511036Z"
    }
   },
   "outputs": [
    {
     "data": {
      "application/vnd.jupyter.widget-view+json": {
       "model_id": "83536b19a23e427aac478cdf2f406bb8",
       "version_major": 2,
       "version_minor": 0
      },
      "text/plain": [
       "Viewer(axes=True, geometries=[], gradient_opacity=0.9, point_sets=[], rendered_image=<itk.itkImagePython.itkIm…"
      ]
     },
     "metadata": {},
     "output_type": "display_data"
    }
   ],
   "source": [
    "image = itk.imread(file_name)\n",
    "view(image, rotate=True, axes=True, vmin=4000, vmax=17000, gradient_opacity=0.9)"
   ]
  },
  {
   "cell_type": "code",
   "execution_count": 19,
   "metadata": {
    "execution": {
     "iopub.execute_input": "2020-11-20T15:31:53.582138Z",
     "iopub.status.busy": "2020-11-20T15:31:53.581280Z",
     "iopub.status.idle": "2020-11-20T15:31:54.517837Z",
     "shell.execute_reply": "2020-11-20T15:31:54.516740Z",
     "shell.execute_reply.started": "2020-11-20T15:31:53.582064Z"
    }
   },
   "outputs": [],
   "source": [
    "# Download data\n",
    "file_name = 'cthead1.png'\n",
    "if not os.path.exists(file_name):\n",
    "    url = 'https://data.kitware.com/api/v1/file/57b5d9ef8d777f10f269538f/download'\n",
    "    urlretrieve(url, file_name)"
   ]
  },
  {
   "cell_type": "code",
   "execution_count": 20,
   "metadata": {
    "execution": {
     "iopub.execute_input": "2020-11-20T15:32:01.175850Z",
     "iopub.status.busy": "2020-11-20T15:32:01.175638Z",
     "iopub.status.idle": "2020-11-20T15:32:01.194988Z",
     "shell.execute_reply": "2020-11-20T15:32:01.194177Z",
     "shell.execute_reply.started": "2020-11-20T15:32:01.175827Z"
    }
   },
   "outputs": [
    {
     "data": {
      "application/vnd.jupyter.widget-view+json": {
       "model_id": "b3849262e1c9426695e48f576de4dd4f",
       "version_major": 2,
       "version_minor": 0
      },
      "text/plain": [
       "Viewer(geometries=[], gradient_opacity=0.22, point_sets=[], rendered_image=<itk.itkImagePython.itkImageUC2; pr…"
      ]
     },
     "metadata": {},
     "output_type": "display_data"
    }
   ],
   "source": [
    "\n",
    "image = itk.imread(file_name)\n",
    "view(image)"
   ]
  },
  {
   "cell_type": "code",
   "execution_count": 23,
   "metadata": {
    "execution": {
     "iopub.execute_input": "2020-11-20T15:32:26.119887Z",
     "iopub.status.busy": "2020-11-20T15:32:26.119755Z",
     "iopub.status.idle": "2020-11-20T15:32:26.124488Z",
     "shell.execute_reply": "2020-11-20T15:32:26.124098Z",
     "shell.execute_reply.started": "2020-11-20T15:32:26.119870Z"
    }
   },
   "outputs": [
    {
     "data": {
      "text/plain": [
       "<itk.itkImagePython.itkImageUC2; proxy of <Swig Object of type 'itkImageUC2 *' at 0x7fe35ac5b900> >"
      ]
     },
     "execution_count": 23,
     "metadata": {},
     "output_type": "execute_result"
    }
   ],
   "source": [
    "image = itk.imread(file_name)\n",
    "image"
   ]
  },
  {
   "cell_type": "code",
   "execution_count": null,
   "metadata": {},
   "outputs": [],
   "source": []
  }
 ],
 "metadata": {
  "kernelspec": {
   "display_name": "Python 3",
   "language": "python",
   "name": "python3"
  },
  "language_info": {
   "codemirror_mode": {
    "name": "ipython",
    "version": 3
   },
   "file_extension": ".py",
   "mimetype": "text/x-python",
   "name": "python",
   "nbconvert_exporter": "python",
   "pygments_lexer": "ipython3",
   "version": "3.6.11"
  },
  "widgets": {
   "application/vnd.jupyter.widget-state+json": {
    "state": {},
    "version_major": 2,
    "version_minor": 0
   }
  }
 },
 "nbformat": 4,
 "nbformat_minor": 4
}
